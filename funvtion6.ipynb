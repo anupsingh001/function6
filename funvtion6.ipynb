{
  "nbformat": 4,
  "nbformat_minor": 0,
  "metadata": {
    "colab": {
      "provenance": []
    },
    "kernelspec": {
      "name": "python3",
      "display_name": "Python 3"
    },
    "language_info": {
      "name": "python"
    }
  },
  "cells": [
    {
      "cell_type": "code",
      "execution_count": null,
      "metadata": {
        "id": "7qMCxatYDyBw"
      },
      "outputs": [],
      "source": []
    },
    {
      "cell_type": "markdown",
      "source": [
        "1....... What is NumPy, and why is it widely used in Python?\n",
        "NumPy is a Python library used for numerical computing. It provides powerful data structures like the multidimensional array (ndarray) and functions for performing efficient mathematical operations. It's widely used due to:\n",
        "\n",
        "High performance (vectorized operations in C)\n",
        "\n",
        "Convenient syntax\n",
        "\n",
        "Extensive functionality (e.g., linear algebra, FFT, random number generation)\n",
        "\n",
        "2......How does broadcasting work in NumPy?\n",
        "Broadcasting allows NumPy to perform arithmetic operations on arrays of different shapes by automatically expanding their dimensions without copying data. This simplifies code and enhances performance by avoiding explicit loops.\n",
        "\n",
        "3....... What is a Pandas DataFrame?\n",
        "A Pandas DataFrame is a two-dimensional, labeled data structure with columns of potentially different types (like a table in SQL or Excel). It is ideal for data manipulation and analysis in Python.\n",
        "\n",
        "4......... Explain the use of the groupby() method in Pandas\n",
        "The groupby() method is used to split data into groups based on a key (e.g., a column), apply a function (like mean or sum), and combine the results. It’s fundamental for data aggregation and summarization.\n",
        "\n",
        "5....... Why is Seaborn preferred for statistical visualizations?\n",
        "Seaborn is preferred because it builds on Matplotlib and provides:\n",
        "\n",
        "High-level interface for drawing attractive and informative plots\n",
        "\n",
        "Built-in themes and color palettes\n",
        "\n",
        "Functions for visualizing statistical relationships (e.g., regression plots, distributions)\n",
        "\n",
        "6....... What are the differences between NumPy arrays and Python lists?\n",
        "NumPy arrays are fixed-type, more memory-efficient, and support vectorized operations.\n",
        "\n",
        "Python lists are flexible (can hold mixed types) but slower for numerical tasks.\n",
        "\n",
        "7....... What is a heatmap, and when should it be used?\n",
        "A heatmap is a graphical representation of data where values are depicted with color. It is used to:\n",
        "\n",
        "Show correlation matrices\n",
        "\n",
        "Visualize intensities or frequencies\n",
        "\n",
        "Highlight patterns in data tables\n",
        "\n",
        "8...... What does the term “vectorized operation” mean in NumPy?\n",
        "A vectorized operation refers to performing operations on entire arrays rather than element by element. This is faster and more concise, leveraging low-level optimizations.\n",
        "\n",
        "9...... How does Matplotlib differ from Plotly?\n",
        "Matplotlib is static and traditional, suitable for publications.\n",
        "\n",
        "Plotly is interactive and web-based, ideal for dashboards and exploratory data analysis.\n",
        "\n",
        "10........ What is the significance of hierarchical indexing in Pandas?\n",
        "Hierarchical indexing (MultiIndex) allows multiple levels of indexing on rows or columns, enabling:\n",
        "\n",
        "Complex data structures\n",
        "\n",
        "Easy slicing and dicing\n",
        "\n",
        "Reshaping operations like pivoting\n",
        "\n",
        "11....... What is the role of Seaborn’s pairplot() function?\n",
        "The pairplot() function creates a matrix of scatter plots (and histograms/ KDEs) for each pair of variables. It’s useful for exploring relationships in multivariate datasets.\n",
        "\n",
        "12...... What is the purpose of the describe() function in Pandas?\n",
        "The describe() function provides a quick statistical summary of numeric (or categorical, with include='all') columns, including count, mean, std, min, and quartiles.\n",
        "\n",
        "13...... Why is handling missing data important in Pandas?\n",
        "Handling missing data is essential to:\n",
        "\n",
        "Ensure the accuracy of analyses\n",
        "\n",
        "Avoid errors in operations\n",
        "\n",
        "Maintain model performance in machine learning tasks\n",
        "\n",
        "14....... What are the benefits of using Plotly for data visualization?\n",
        "Plotly offers:\n",
        "\n",
        "Interactive plots with zoom/pan/hover\n",
        "\n",
        "Easy integration with web apps (Dash)\n",
        "\n",
        "Rich chart types (e.g., 3D, choropleths)\n",
        "\n",
        "Export to HTML and dashboards\n",
        "\n",
        "15....... How does NumPy handle multidimensional arrays?\n",
        "NumPy handles multidimensional arrays (ndarrays) with:\n",
        "\n",
        "N-dimensional shape and indexing\n",
        "\n",
        "Broadcasting rules\n",
        "\n",
        "Efficient storage and operations using strides and vectorization\n",
        "\n",
        "17........A What is the role of Bokeh in data visualization?\n",
        "Bokeh is a Python library for creating interactive, browser-based visualizations. It excels in:\n",
        "\n",
        "Streaming and real-time data\n",
        "\n",
        "Embedding plots in web apps\n",
        "\n",
        "High-performance dashboards\n",
        "\n",
        "18....... Explain the difference between apply() and map() in Pandas\n",
        "**map()** is used for element-wise transformations on Series (typically with a dict or function).\n",
        "\n",
        "**apply()** is more flexible, used on Series or DataFrames to apply a function across rows or columns."
      ],
      "metadata": {
        "id": "76WE_gChGTlv"
      }
    },
    {
      "cell_type": "markdown",
      "source": [
        "18...... What are some advanced features of NumPy?\n",
        "Advanced NumPy features include:\n",
        "\n",
        "Broadcasting for efficient operations on arrays of different shapes\n",
        "\n",
        "Universal functions (ufuncs) for element-wise operations\n",
        "\n",
        "Masked arrays to handle missing or invalid data\n",
        "\n",
        "Structured arrays for handling complex records\n",
        "\n",
        "Memory mapping for working with large datasets without loading them fully into memory\n",
        "\n",
        "Linear algebra routines, FFT, and random number generation tools\n",
        "\n",
        "19...... How does Pandas simplify time series analysis?\n",
        "Pandas offers rich time series support, including:\n",
        "\n",
        "Datetime indexing and resampling\n",
        "\n",
        "Frequency conversion (e.g., daily to monthly)\n",
        "\n",
        "Rolling windows for moving averages and statistics\n",
        "\n",
        "Date offset and shifting operations\n",
        "\n",
        "Time zone handling\n",
        "This allows analysts to handle time-stamped data with minimal effort.\n",
        "\n"
      ],
      "metadata": {
        "id": "Z7Q0ZWjXHlQ5"
      }
    },
    {
      "cell_type": "markdown",
      "source": [
        "20........ What is the role of a pivot table in Pandas?\n",
        "Summarizes data by grouping and aggregating (e.g., sum, mean, count).\n",
        "\n",
        "Allows multi-dimensional grouping (like in Excel pivot tables).\n",
        "\n",
        "Helps reshape data for analysis or visualization.\n",
        "\n",
        "Makes it easier to spot trends and patterns by cross-tabulating data.\n",
        "\n",
        "21...... Why is NumPy’s array slicing faster than Python’s list slicing?\n",
        "Contiguous memory layout: Arrays are stored in a compact, typed memory block.\n",
        "\n",
        "Slicing returns views, not copies — no data duplication.\n",
        "\n",
        "Operations in compiled C code, bypassing Python’s interpreter overhead.\n",
        "\n",
        "Fixed data type: Reduces overhead from dynamic typing present in lists.\n",
        "\n",
        "22.......... What are some common use cases for Seaborn?\n",
        "Exploring distributions: Histograms, KDEs, rug plots.\n",
        "\n",
        "Comparing groups: Box plots, violin plots, bar plots.\n",
        "\n",
        "Visualizing relationships: Scatter plots with regression lines, line plots.\n",
        "\n",
        "Heatmaps: Correlation matrices or pivoted tables.\n",
        "\n",
        "Multi-plot grids: FacetGrid and pairplot for comparing subsets or variables.\n",
        "\n"
      ],
      "metadata": {
        "id": "t-iilB-EIfVu"
      }
    },
    {
      "cell_type": "code",
      "source": [
        "import numpy as np\n",
        "\n",
        "# Create a 2D array\n",
        "arr = np.array([[1, 2, 3], [4, 5, 6], [7, 8, 9]])\n",
        "\n",
        "# Calculate sum of each row\n",
        "row_sums = np.sum(arr, axis=1)\n",
        "\n",
        "print(\"Row sums:\", row_sums)\n"
      ],
      "metadata": {
        "id": "k6xrj5cpIoPY"
      },
      "execution_count": null,
      "outputs": []
    },
    {
      "cell_type": "markdown",
      "source": [
        "import pandas as pd\n",
        "\n",
        "# Example DataFrame\n",
        "data = {'Name': ['Alice', 'Bob', 'Charlie'],\n",
        "        'Age': [25, 30, 35],\n",
        "        'Salary': [50000, 60000, 70000]}\n",
        "df = pd.DataFrame(data)\n",
        "\n",
        "# Find mean of the 'Salary' column\n",
        "mean_salary = df['Salary'].mean()\n",
        "\n",
        "print(\"Mean Salary:\", mean_salary)\n"
      ],
      "metadata": {
        "id": "1bxD8r6fI6Bk"
      }
    },
    {
      "cell_type": "code",
      "source": [
        "import matplotlib.pyplot as plt\n",
        "\n",
        "# Example data\n",
        "x = [1, 2, 3, 4, 5]\n",
        "y = [2, 4, 1, 8, 7]\n",
        "\n",
        "# Create scatter plot\n",
        "plt.scatter(x, y)\n",
        "plt.title(\"Scatter Plot Example\")\n",
        "plt.xlabel(\"X-axis\")\n",
        "plt.ylabel(\"Y-axis\")\n",
        "plt.grid(True)\n",
        "plt.show()\n"
      ],
      "metadata": {
        "id": "WXrh8DWBJAVE"
      },
      "execution_count": null,
      "outputs": []
    },
    {
      "cell_type": "code",
      "source": [
        "import seaborn as sns\n",
        "import pandas as pd\n",
        "import matplotlib.pyplot as plt\n",
        "\n",
        "# Example DataFrame\n",
        "df = pd.DataFrame({\n",
        "    'A': [1, 2, 3, 4, 5],\n",
        "    'B': [5, 4, 3, 2, 1],\n",
        "    'C': [2, 3, 2, 3, 2]\n",
        "})\n",
        "\n",
        "# Calculate correlation matrix\n",
        "corr = df.corr()\n",
        "\n",
        "# Plot heatmap\n",
        "sns.heatmap(corr, annot=True, cmap='coolwarm')\n",
        "plt.title(\"Correlation Matrix Heatmap\")\n",
        "plt.show()\n"
      ],
      "metadata": {
        "id": "oLo3g2IJJISN"
      },
      "execution_count": null,
      "outputs": []
    },
    {
      "cell_type": "code",
      "source": [
        "import plotly.express as px\n",
        "\n",
        "data = {'Fruit': ['Apples', 'Oranges', 'Bananas'], 'Count': [10, 15, 7]}\n",
        "fig = px.bar(data, x='Fruit', y='Count', title=\"Fruit Count\")\n",
        "fig.show()\n"
      ],
      "metadata": {
        "id": "u2uR3HWmJMsB"
      },
      "execution_count": null,
      "outputs": []
    },
    {
      "cell_type": "code",
      "source": [
        "import pandas as pd\n",
        "\n",
        "df = pd.DataFrame({'Name': ['Alice', 'Bob'], 'Age': [25, 30]})\n",
        "df['Age in 5 Years'] = df['Age'] + 5\n",
        "\n",
        "print(df)\n"
      ],
      "metadata": {
        "id": "YkRoKmW8JfJu"
      },
      "execution_count": null,
      "outputs": []
    },
    {
      "cell_type": "code",
      "source": [
        "import numpy as np\n",
        "\n",
        "a = np.array([1, 2, 3])\n",
        "b = np.array([4, 5, 6])\n",
        "\n",
        "result = a * b\n",
        "print(\"Element-wise multiplication:\", result)\n"
      ],
      "metadata": {
        "id": "1UzmuE30JjYB"
      },
      "execution_count": null,
      "outputs": []
    },
    {
      "cell_type": "code",
      "source": [
        "import matplotlib.pyplot as plt\n",
        "\n",
        "x = [1, 2, 3, 4]\n",
        "y1 = [1, 4, 9, 16]\n",
        "y2 = [1, 2, 3, 4]\n",
        "\n",
        "plt.plot(x, y1, label='Squared')\n",
        "plt.plot(x, y2, label='Linear')\n",
        "plt.legend()\n",
        "plt.title(\"Multiple Line Plot\")\n",
        "plt.xlabel(\"X-axis\")\n",
        "plt.ylabel(\"Y-axis\")\n",
        "plt.grid(True)\n",
        "plt.show()\n"
      ],
      "metadata": {
        "id": "CLALJjWPJnXH"
      },
      "execution_count": null,
      "outputs": []
    },
    {
      "cell_type": "code",
      "source": [
        "import pandas as pd\n",
        "\n",
        "df = pd.DataFrame({'Name': ['Alice', 'Bob', 'Charlie'], 'Score': [85, 60, 90]})\n",
        "filtered_df = df[df['Score'] > 80]\n",
        "\n",
        "print(filtered_df)\n"
      ],
      "metadata": {
        "id": "DKFWHGPZJrrL"
      },
      "execution_count": null,
      "outputs": []
    },
    {
      "cell_type": "code",
      "source": [
        "import seaborn as sns\n",
        "import matplotlib.pyplot as plt\n",
        "\n",
        "data = [10, 20, 20, 30, 40, 50, 50, 50, 60]\n",
        "sns.histplot(data, bins=5, kde=True)\n",
        "plt.title(\"Histogram with KDE\")\n",
        "plt.xlabel(\"Value\")\n",
        "plt.ylabel(\"Frequency\")\n",
        "plt.show()\n"
      ],
      "metadata": {
        "id": "sY7B4BbLJrxd"
      },
      "execution_count": null,
      "outputs": []
    },
    {
      "cell_type": "code",
      "source": [
        "import numpy as np\n",
        "\n",
        "A = np.array([[1, 2], [3, 4]])\n",
        "B = np.array([[5, 6], [7, 8]])\n",
        "\n",
        "result = np.dot(A, B)\n",
        "print(\"Matrix multiplication result:\\n\", result)\n"
      ],
      "metadata": {
        "id": "uf4WkbOgJ1tS"
      },
      "execution_count": null,
      "outputs": []
    },
    {
      "cell_type": "code",
      "source": [
        "import pandas as pd\n",
        "\n",
        "# Replace 'your_file.csv' with the actual file path\n",
        "df = pd.read_csv('your_file.csv')\n",
        "\n",
        "print(df.head())\n"
      ],
      "metadata": {
        "id": "Lko8YoD1J1wr"
      },
      "execution_count": null,
      "outputs": []
    },
    {
      "cell_type": "code",
      "source": [
        "import plotly.express as px\n",
        "import pandas as pd\n",
        "\n",
        "df = pd.DataFrame({\n",
        "    'x': [1, 2, 3, 4],\n",
        "    'y': [10, 11, 12, 13],\n",
        "    'z': [100, 110, 120, 130]\n",
        "})\n",
        "\n",
        "fig = px.scatter_3d(df, x='x', y='y', z='z', title=\"3D Scatter Plot\")\n",
        "fig.show()\n"
      ],
      "metadata": {
        "id": "4Kmpj-K0J2Wd"
      },
      "execution_count": null,
      "outputs": []
    }
  ]
}